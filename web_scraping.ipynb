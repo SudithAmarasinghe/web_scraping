{
  "nbformat": 4,
  "nbformat_minor": 0,
  "metadata": {
    "colab": {
      "provenance": [],
      "authorship_tag": "ABX9TyO/0gLzCo7MSRQhUoyWHwgQ",
      "include_colab_link": true
    },
    "kernelspec": {
      "name": "python3",
      "display_name": "Python 3"
    },
    "language_info": {
      "name": "python"
    }
  },
  "cells": [
    {
      "cell_type": "markdown",
      "metadata": {
        "id": "view-in-github",
        "colab_type": "text"
      },
      "source": [
        "<a href=\"https://colab.research.google.com/github/SudithAmarasinghe/web_scraping/blob/main/web_scraping.ipynb\" target=\"_parent\"><img src=\"https://colab.research.google.com/assets/colab-badge.svg\" alt=\"Open In Colab\"/></a>"
      ]
    },
    {
      "cell_type": "code",
      "execution_count": 99,
      "metadata": {
        "colab": {
          "base_uri": "https://localhost:8080/"
        },
        "id": "fWhHT5xFHuQd",
        "outputId": "9572a8fc-70a0-4f90-ec47-70d9c55b683a"
      },
      "outputs": [
        {
          "output_type": "stream",
          "name": "stdout",
          "text": [
            "Laughs   COCONUT - Item#mr-2058 Rs.:  102.0\n",
            "Glomark  Coconut Rs.:  100.0\n",
            "Glomark is cheaper Rs.: 2.0\n"
          ]
        }
      ],
      "source": [
        "# This program acquire, extract and compare the price from these two suppliers, for a given product.\n",
        "# Laughs aand Glowmark are the online sites which used for this price comparisson \n",
        "\n",
        "import requests\n",
        "import json\n",
        "\n",
        "import sys\n",
        "sys.path.insert(0,'bs4.zip')\n",
        "from bs4 import BeautifulSoup\n",
        "\n",
        "#Imitate the Mozilla browser.\n",
        "user_agent = {'User-agent': 'Mozilla/5.0'}\n",
        "\n",
        "\n",
        "#Any item url of same web site can be altered to the following to get the different outputs\n",
        "product_glomark = 'https://glomark.lk/coconut/p/11624'\n",
        "product_laughs = 'https://www.laugfssuper.com/index.php/coconut-105320.html'\n",
        "\n",
        "# product_glomark = 'https://glomark.lk/flora-facial-tissues-160s/p/10470'\n",
        "# product_laughs = 'https://www.laugfssuper.com/index.php/categories/household/flora-facial-tissues-2-x-160-box.html'\n",
        "\n",
        "# product_glomark = 'https://glomark.lk/top-crust-bread/p/13676'\n",
        "# product_laughs = 'https://www.laugfssuper.com/index.php/crimson-bread-sliced-111452.html'\n",
        "\n",
        " \n",
        "# For Glowmark\n",
        "htmlglow = requests.get(product_glomark,headers=user_agent).content\n",
        "glowSoup = BeautifulSoup(htmlglow, 'html.parser')    \n",
        "#inline script contains the informaation,check source code\n",
        "findInlineScript= glowSoup.find_all('script')[6].text\n",
        "jsonObjectfromScript = json.loads(findInlineScript)\n",
        "price_glomark = float(jsonObjectfromScript[\"offers\"][0][\"price\"])\n",
        "product_name_glomark = glowSoup.find_all('div',attrs={'class':'product-title'})\n",
        "for item in product_name_glomark:\n",
        "    product_name_glomark = (item.find('h1').text)\n",
        "\n",
        "\n",
        "\n",
        "# For Laughs\n",
        "html_text = requests.get(product_laughs).content\n",
        "laughsssoup = BeautifulSoup(html_text, 'html.parser')\n",
        "price_laughs = float((laughsssoup.find('div', class_='price-box').text)[5:])\n",
        "product_name_laughs = laughsssoup.find_all('div',attrs={'class':'product-name'})\n",
        "for item in product_name_laughs:\n",
        "    product_name_laughs = (item.find('h1').text)\n",
        "    \n",
        "\n",
        "\n",
        "\n",
        "print('Laughs  ',product_name_laughs,'Rs.: ' , price_laughs)\n",
        "print('Glomark ',product_name_glomark,'Rs.: ' , price_glomark)\n",
        "   \n",
        "if(price_laughs>price_glomark):\n",
        "    print('Glomark is cheaper Rs.:',price_laughs - price_glomark)\n",
        "elif(price_laughs<price_glomark):\n",
        "    print('Laughs is cheaper Rs.:',price_glomark - price_laughs)  \n",
        "else:\n",
        "    print('Price is the same')\n",
        "\n",
        "\n",
        "\n",
        "#Following Can be used for Python Programming final assesment of\n",
        "#Trainee Full Stack Developer from University of Moratuwa\n",
        "\n",
        "# import requests\n",
        "# import json\n",
        "\n",
        "# import sys\n",
        "# sys.path.insert(0,'bs4.zip')\n",
        "# from bs4 import BeautifulSoup\n",
        "\n",
        "# #Imitate the Mozilla browser.\n",
        "# user_agent = {'User-agent': 'Mozilla/5.0'}\n",
        "\n",
        "# def compare_prices(product_laughs,product_glomark):\n",
        "\n",
        "# For Glowmark\n",
        "#     htmlglow = requests.get(product_glomark,headers=user_agent).content\n",
        "#     glowSoup = BeautifulSoup(htmlglow, 'html.parser')    \n",
        "#     #inline script contains the informaation,check source code\n",
        "#     findInlineScript= glowSoup.find_all('script')[6].text\n",
        "#     jsonObjectfromScript = json.loads(findInlineScript)\n",
        "#     price_glomark = float(jsonObjectfromScript[\"offers\"][0][\"price\"])\n",
        "#     product_name_glomark = glowSoup.find_all('div',attrs={'class':'product-title'})\n",
        "#     for item in product_name_glomark:\n",
        "#         product_name_glomark = (item.find('h1').text)\n",
        "\n",
        "# For Laughs\n",
        "#     html_text = requests.get(product_laughs).content\n",
        "#     laughsssoup = BeautifulSoup(html_text, 'html.parser')\n",
        "#     price_laughs = float((laughsssoup.find('div', class_='price-box').text)[5:])\n",
        "#     product_name_laughs = laughsssoup.find_all('div',attrs={'class':'product-name'})\n",
        "#     for item in product_name_laughs:\n",
        "#         product_name_laughs = (item.find('h1').text)\n",
        "\n",
        "   \n",
        "#     print('Laughs  ',product_name_laughs,'Rs.: ' , price_laughs)\n",
        "#     print('Glomark ',product_name_glomark,'Rs.: ' , price_glomark)\n",
        "   \n",
        "#     if(price_laughs>price_glomark):\n",
        "#         print('Glomark is cheaper Rs.:',price_laughs - price_glomark)\n",
        "#     elif(price_laughs<price_glomark):\n",
        "#         print('Laughs is cheaper Rs.:',price_glomark - price_laughs)  \n",
        "#     else:\n",
        "#         print('Price is the same')\n",
        "\n"
      ]
    }
  ]
}